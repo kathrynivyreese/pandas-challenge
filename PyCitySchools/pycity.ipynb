{
 "cells": [
  {
   "cell_type": "code",
   "execution_count": 1,
   "metadata": {},
   "outputs": [
    {
     "data": {
      "text/html": [
       "<div>\n",
       "<style scoped>\n",
       "    .dataframe tbody tr th:only-of-type {\n",
       "        vertical-align: middle;\n",
       "    }\n",
       "\n",
       "    .dataframe tbody tr th {\n",
       "        vertical-align: top;\n",
       "    }\n",
       "\n",
       "    .dataframe thead th {\n",
       "        text-align: right;\n",
       "    }\n",
       "</style>\n",
       "<table border=\"1\" class=\"dataframe\">\n",
       "  <thead>\n",
       "    <tr style=\"text-align: right;\">\n",
       "      <th></th>\n",
       "      <th>Student ID</th>\n",
       "      <th>student_name</th>\n",
       "      <th>gender</th>\n",
       "      <th>grade</th>\n",
       "      <th>school_name</th>\n",
       "      <th>reading_score</th>\n",
       "      <th>math_score</th>\n",
       "      <th>School ID</th>\n",
       "      <th>type</th>\n",
       "      <th>size</th>\n",
       "      <th>budget</th>\n",
       "    </tr>\n",
       "  </thead>\n",
       "  <tbody>\n",
       "    <tr>\n",
       "      <th>0</th>\n",
       "      <td>0</td>\n",
       "      <td>Paul Bradley</td>\n",
       "      <td>M</td>\n",
       "      <td>9th</td>\n",
       "      <td>Huang High School</td>\n",
       "      <td>66</td>\n",
       "      <td>79</td>\n",
       "      <td>0</td>\n",
       "      <td>District</td>\n",
       "      <td>2917</td>\n",
       "      <td>1910635</td>\n",
       "    </tr>\n",
       "    <tr>\n",
       "      <th>1</th>\n",
       "      <td>1</td>\n",
       "      <td>Victor Smith</td>\n",
       "      <td>M</td>\n",
       "      <td>12th</td>\n",
       "      <td>Huang High School</td>\n",
       "      <td>94</td>\n",
       "      <td>61</td>\n",
       "      <td>0</td>\n",
       "      <td>District</td>\n",
       "      <td>2917</td>\n",
       "      <td>1910635</td>\n",
       "    </tr>\n",
       "    <tr>\n",
       "      <th>2</th>\n",
       "      <td>2</td>\n",
       "      <td>Kevin Rodriguez</td>\n",
       "      <td>M</td>\n",
       "      <td>12th</td>\n",
       "      <td>Huang High School</td>\n",
       "      <td>90</td>\n",
       "      <td>60</td>\n",
       "      <td>0</td>\n",
       "      <td>District</td>\n",
       "      <td>2917</td>\n",
       "      <td>1910635</td>\n",
       "    </tr>\n",
       "    <tr>\n",
       "      <th>3</th>\n",
       "      <td>3</td>\n",
       "      <td>Dr. Richard Scott</td>\n",
       "      <td>M</td>\n",
       "      <td>12th</td>\n",
       "      <td>Huang High School</td>\n",
       "      <td>67</td>\n",
       "      <td>58</td>\n",
       "      <td>0</td>\n",
       "      <td>District</td>\n",
       "      <td>2917</td>\n",
       "      <td>1910635</td>\n",
       "    </tr>\n",
       "    <tr>\n",
       "      <th>4</th>\n",
       "      <td>4</td>\n",
       "      <td>Bonnie Ray</td>\n",
       "      <td>F</td>\n",
       "      <td>9th</td>\n",
       "      <td>Huang High School</td>\n",
       "      <td>97</td>\n",
       "      <td>84</td>\n",
       "      <td>0</td>\n",
       "      <td>District</td>\n",
       "      <td>2917</td>\n",
       "      <td>1910635</td>\n",
       "    </tr>\n",
       "  </tbody>\n",
       "</table>\n",
       "</div>"
      ],
      "text/plain": [
       "   Student ID       student_name gender grade        school_name  \\\n",
       "0           0       Paul Bradley      M   9th  Huang High School   \n",
       "1           1       Victor Smith      M  12th  Huang High School   \n",
       "2           2    Kevin Rodriguez      M  12th  Huang High School   \n",
       "3           3  Dr. Richard Scott      M  12th  Huang High School   \n",
       "4           4         Bonnie Ray      F   9th  Huang High School   \n",
       "\n",
       "   reading_score  math_score  School ID      type  size   budget  \n",
       "0             66          79          0  District  2917  1910635  \n",
       "1             94          61          0  District  2917  1910635  \n",
       "2             90          60          0  District  2917  1910635  \n",
       "3             67          58          0  District  2917  1910635  \n",
       "4             97          84          0  District  2917  1910635  "
      ]
     },
     "execution_count": 1,
     "metadata": {},
     "output_type": "execute_result"
    }
   ],
   "source": [
    "# Dependencies and Setup\n",
    "import pandas as pd\n",
    "from pathlib import Path\n",
    "\n",
    "# File to Load (Remember to Change These)\n",
    "school_data_to_load = Path(\"/Users/kathrynreese/Documents/Data/Pandas/pandas-challenge-clone/Resources/schools_complete.csv\")\n",
    "student_data_to_load = Path(\"/Users/kathrynreese/Documents/Data/Pandas/pandas-challenge-clone/Resources/students_complete.csv\")\n",
    "\n",
    "# Read School and Student Data File and store into Pandas DataFrames\n",
    "school_data = pd.read_csv(school_data_to_load)\n",
    "student_data = pd.read_csv(student_data_to_load)\n",
    "\n",
    "# Combine the data into a single dataset.\n",
    "school_data_complete = pd.merge(student_data, school_data, how=\"left\", on=[\"school_name\", \"school_name\"])\n",
    "school_data_complete.head() "
   ]
  },
  {
   "cell_type": "code",
   "execution_count": 2,
   "metadata": {},
   "outputs": [
    {
     "data": {
      "text/plain": [
       "15"
      ]
     },
     "execution_count": 2,
     "metadata": {},
     "output_type": "execute_result"
    }
   ],
   "source": [
    "# Calculate the total number of unique schools\n",
    "school_count = school_data['school_name'].nunique()\n",
    "school_count"
   ]
  },
  {
   "cell_type": "code",
   "execution_count": 3,
   "metadata": {},
   "outputs": [
    {
     "name": "stdout",
     "output_type": "stream",
     "text": [
      "39170\n"
     ]
    }
   ],
   "source": [
    "#How many students are involved in this study?\n",
    "student_name = 'student_name'\n",
    "student_count = student_data[student_name].count()\n",
    "print(student_count)"
   ]
  },
  {
   "cell_type": "code",
   "execution_count": 4,
   "metadata": {},
   "outputs": [
    {
     "name": "stdout",
     "output_type": "stream",
     "text": [
      "24649428\n"
     ]
    }
   ],
   "source": [
    "#Calculate total budget for those schools\n",
    "total_budget = school_data['budget'].sum()\n",
    "print(total_budget)\n"
   ]
  },
  {
   "cell_type": "code",
   "execution_count": 5,
   "metadata": {},
   "outputs": [
    {
     "name": "stdout",
     "output_type": "stream",
     "text": [
      "78.98537145774827\n"
     ]
    }
   ],
   "source": [
    "#Find average math score\n",
    "average_math_score = student_data['math_score'].mean()\n",
    "print(average_math_score)"
   ]
  },
  {
   "cell_type": "code",
   "execution_count": 6,
   "metadata": {},
   "outputs": [
    {
     "name": "stdout",
     "output_type": "stream",
     "text": [
      "81.87784018381414\n"
     ]
    }
   ],
   "source": [
    "#Find average reading score\n",
    "average_reading_score = student_data['reading_score'].mean()\n",
    "print(average_reading_score)\n"
   ]
  },
  {
   "cell_type": "code",
   "execution_count": 7,
   "metadata": {},
   "outputs": [
    {
     "data": {
      "text/plain": [
       "74.98"
      ]
     },
     "execution_count": 7,
     "metadata": {},
     "output_type": "execute_result"
    }
   ],
   "source": [
    "# Use the following to calculate the percentage of students who passed math (math scores greather than or equal to 70)\n",
    "passing_math_count = school_data_complete[(school_data_complete[\"math_score\"] >= 70)].count()[\"student_name\"]\n",
    "passing_math_percentage = round(passing_math_count / float(student_count) * 100, 2)\n",
    "passing_math_percentage"
   ]
  },
  {
   "cell_type": "code",
   "execution_count": 8,
   "metadata": {},
   "outputs": [
    {
     "data": {
      "text/plain": [
       "85.81"
      ]
     },
     "execution_count": 8,
     "metadata": {},
     "output_type": "execute_result"
    }
   ],
   "source": [
    "#How many students passed in reading? \n",
    "passing_reading_count = school_data_complete[(school_data_complete[\"reading_score\"] >= 70)].count()[\"student_name\"]\n",
    "passing_reading_percentage = round(passing_reading_count / float(student_count) * 100, 2)\n",
    "passing_reading_percentage"
   ]
  },
  {
   "cell_type": "code",
   "execution_count": 9,
   "metadata": {},
   "outputs": [
    {
     "data": {
      "text/plain": [
       "65.17232575950983"
      ]
     },
     "execution_count": 9,
     "metadata": {},
     "output_type": "execute_result"
    }
   ],
   "source": [
    "#What percentage of students passed both math and reading\n",
    "passing_math_reading_count = school_data_complete[\n",
    "    (school_data_complete[\"math_score\"] >= 70) & (school_data_complete[\"reading_score\"] >= 70)\n",
    "].count()[\"student_name\"]\n",
    "overall_passing_rate = passing_math_reading_count /  float(student_count) * 100\n",
    "overall_passing_rate"
   ]
  },
  {
   "cell_type": "code",
   "execution_count": 10,
   "metadata": {},
   "outputs": [
    {
     "data": {
      "text/html": [
       "<div>\n",
       "<style scoped>\n",
       "    .dataframe tbody tr th:only-of-type {\n",
       "        vertical-align: middle;\n",
       "    }\n",
       "\n",
       "    .dataframe tbody tr th {\n",
       "        vertical-align: top;\n",
       "    }\n",
       "\n",
       "    .dataframe thead th {\n",
       "        text-align: right;\n",
       "    }\n",
       "</style>\n",
       "<table border=\"1\" class=\"dataframe\">\n",
       "  <thead>\n",
       "    <tr style=\"text-align: right;\">\n",
       "      <th></th>\n",
       "      <th>Total Budget</th>\n",
       "      <th>Total Schools</th>\n",
       "      <th>Total Students</th>\n",
       "      <th>Average Math Score</th>\n",
       "      <th>Average Reading Score</th>\n",
       "      <th>% Passing Math</th>\n",
       "      <th>% Passing Reading</th>\n",
       "      <th>% Overall Passing</th>\n",
       "    </tr>\n",
       "  </thead>\n",
       "  <tbody>\n",
       "    <tr>\n",
       "      <th>0</th>\n",
       "      <td>$24,649,428.00</td>\n",
       "      <td>15</td>\n",
       "      <td>39,170</td>\n",
       "      <td>78.985371</td>\n",
       "      <td>81.87784</td>\n",
       "      <td>74.98</td>\n",
       "      <td>85.81</td>\n",
       "      <td>65.172326</td>\n",
       "    </tr>\n",
       "  </tbody>\n",
       "</table>\n",
       "</div>"
      ],
      "text/plain": [
       "     Total Budget  Total Schools Total Students  Average Math Score  \\\n",
       "0  $24,649,428.00             15         39,170           78.985371   \n",
       "\n",
       "   Average Reading Score  % Passing Math  % Passing Reading  % Overall Passing  \n",
       "0               81.87784           74.98              85.81          65.172326  "
      ]
     },
     "execution_count": 10,
     "metadata": {},
     "output_type": "execute_result"
    }
   ],
   "source": [
    "# Create a high-level snapshot of the district's key metrics in a DataFrame\n",
    "district_summary = pd.DataFrame ({\n",
    "    \"Total Budget\": [total_budget],\n",
    "    \"Total Schools\": [school_count],\n",
    "    \"Total Students\": [student_count],\n",
    "    \"Average Math Score\": [average_math_score],\n",
    "    \"Average Reading Score\": [average_reading_score],\n",
    "    \"% Passing Math\": [passing_math_percentage],\n",
    "    \"% Passing Reading\": [passing_reading_percentage],\n",
    "    \"% Overall Passing\": [overall_passing_rate]\n",
    "})\n",
    "# Formatting\n",
    "district_summary[\"Total Students\"] = district_summary[\"Total Students\"].map(\"{:,}\".format)\n",
    "district_summary[\"Total Budget\"] = district_summary[\"Total Budget\"].map(\"${:,.2f}\".format)\n",
    "\n",
    "# Display the DataFrame\n",
    "district_summary"
   ]
  },
  {
   "cell_type": "code",
   "execution_count": 11,
   "metadata": {},
   "outputs": [
    {
     "data": {
      "text/plain": [
       "school_name\n",
       "Huang High School        District\n",
       "Figueroa High School     District\n",
       "Shelton High School       Charter\n",
       "Hernandez High School    District\n",
       "Griffin High School       Charter\n",
       "Wilson High School        Charter\n",
       "Cabrera High School       Charter\n",
       "Bailey High School       District\n",
       "Holden High School        Charter\n",
       "Pena High School          Charter\n",
       "Wright High School        Charter\n",
       "Rodriguez High School    District\n",
       "Johnson High School      District\n",
       "Ford High School         District\n",
       "Thomas High School        Charter\n",
       "Name: type, dtype: object"
      ]
     },
     "execution_count": 11,
     "metadata": {},
     "output_type": "execute_result"
    }
   ],
   "source": [
    "# Use the code provided to select the type per school from school_data\n",
    "school_types = school_data.set_index([\"school_name\"])[\"type\"]\n",
    "school_types"
   ]
  },
  {
   "cell_type": "code",
   "execution_count": 12,
   "metadata": {},
   "outputs": [
    {
     "data": {
      "text/plain": [
       "school_name\n",
       "Bailey High School       4976\n",
       "Cabrera High School      1858\n",
       "Figueroa High School     2949\n",
       "Ford High School         2739\n",
       "Griffin High School      1468\n",
       "Hernandez High School    4635\n",
       "Holden High School        427\n",
       "Huang High School        2917\n",
       "Johnson High School      4761\n",
       "Pena High School          962\n",
       "Rodriguez High School    3999\n",
       "Shelton High School      1761\n",
       "Thomas High School       1635\n",
       "Wilson High School       2283\n",
       "Wright High School       1800\n",
       "Name: student_name, dtype: int64"
      ]
     },
     "execution_count": 12,
     "metadata": {},
     "output_type": "execute_result"
    }
   ],
   "source": [
    "# Calculate the total student count per school from school_data\n",
    "#this is an option for creating a new dataframe displaying the same information, but with integer index still\n",
    "#per_school_counts = school_data.loc[:, ['school_name', 'size']]\n",
    "#this option also works\n",
    "#per_school_counts = school_data.set_index([\"school_name\"])[\"size\"] \n",
    "#per_school_counts \n",
    "\n",
    "school_grouped = school_data_complete.groupby(\"school_name\")\n",
    "total_students_per_school = school_grouped[\"student_name\"].count() \n",
    "total_students_per_school \n"
   ]
  },
  {
   "cell_type": "code",
   "execution_count": 13,
   "metadata": {},
   "outputs": [
    {
     "data": {
      "text/plain": [
       "school_name\n",
       "Bailey High School       3124928\n",
       "Cabrera High School      1081356\n",
       "Figueroa High School     1884411\n",
       "Ford High School         1763916\n",
       "Griffin High School       917500\n",
       "Hernandez High School    3022020\n",
       "Holden High School        248087\n",
       "Huang High School        1910635\n",
       "Johnson High School      3094650\n",
       "Pena High School          585858\n",
       "Rodriguez High School    2547363\n",
       "Shelton High School      1056600\n",
       "Thomas High School       1043130\n",
       "Wilson High School       1319574\n",
       "Wright High School       1049400\n",
       "Name: budget, dtype: int64"
      ]
     },
     "execution_count": 13,
     "metadata": {},
     "output_type": "execute_result"
    }
   ],
   "source": [
    "#GETTING COMPLETELY WRONG SUM, DEBUG LATER\n",
    "# Calculate the total school budget from school_data\n",
    "per_school_budget = school_data.groupby(\"school_name\")['budget'].sum()\n",
    "per_school_budget"
   ]
  },
  {
   "cell_type": "code",
   "execution_count": 14,
   "metadata": {},
   "outputs": [
    {
     "data": {
      "text/plain": [
       "school_name\n",
       "Bailey High School       628.0\n",
       "Cabrera High School      582.0\n",
       "Figueroa High School     639.0\n",
       "Ford High School         644.0\n",
       "Griffin High School      625.0\n",
       "Hernandez High School    652.0\n",
       "Holden High School       581.0\n",
       "Huang High School        655.0\n",
       "Johnson High School      650.0\n",
       "Pena High School         609.0\n",
       "Rodriguez High School    637.0\n",
       "Shelton High School      600.0\n",
       "Thomas High School       638.0\n",
       "Wilson High School       578.0\n",
       "Wright High School       583.0\n",
       "dtype: float64"
      ]
     },
     "execution_count": 14,
     "metadata": {},
     "output_type": "execute_result"
    }
   ],
   "source": [
    "# Calculate how much of the budget is availalable per student (per capita)\n",
    "#school_data_grouped = school_data.groupby(\"school_name\")\n",
    "#total_students_per_school = school_grouped[\"student_name\"].count()\n",
    "\n",
    "per_school_capita = per_school_budget/total_students_per_school\n",
    "per_school_capita"
   ]
  },
  {
   "cell_type": "code",
   "execution_count": 15,
   "metadata": {},
   "outputs": [],
   "source": [
    "# Calculate the average test scores per school from school_data_complete\n",
    "ave_reading_scores = school_grouped['reading_score'].mean() \n",
    "ave_math_scores = school_grouped['math_score'].mean() "
   ]
  },
  {
   "cell_type": "code",
   "execution_count": 16,
   "metadata": {},
   "outputs": [],
   "source": [
    "# Calculate the number of students per school with math scores of 70 or higher from school_data_complete\n",
    "# Calculate the number of students passing math per school\n",
    "passing_math_count = school_data_complete[school_data_complete[\"math_score\"] >= 70].groupby(\"school_name\")[\"student_name\"].count()"
   ]
  },
  {
   "cell_type": "code",
   "execution_count": 17,
   "metadata": {},
   "outputs": [],
   "source": [
    "# Calculate the number of students per school with reading scores of 70 or higher from school_data_complete\n",
    "# Calculate the number of students passing reading per school\n",
    "passing_reading_count = school_data_complete[school_data_complete[\"reading_score\"] >= 70].groupby(\"school_name\")[\"student_name\"].count()\n"
   ]
  },
  {
   "cell_type": "code",
   "execution_count": 18,
   "metadata": {},
   "outputs": [],
   "source": [
    "# Use the provided code to calculate the number of students per school that passed both math and reading with scores of 70 or higher\n",
    "students_passing_math_and_reading = school_data_complete[\n",
    "    (school_data_complete[\"reading_score\"] >= 70) & (school_data_complete[\"math_score\"] >= 70)\n",
    "]\n",
    "school_students_passing_math_and_reading = students_passing_math_and_reading.groupby([\"school_name\"]).size()"
   ]
  },
  {
   "cell_type": "code",
   "execution_count": 19,
   "metadata": {},
   "outputs": [],
   "source": [
    "# Use the provided code to calculate the passing rates\n",
    "overall_passing_rate = school_students_passing_math_and_reading / total_students_per_school * 100\n",
    "passing_math_percentage = passing_math_count/ total_students_per_school * 100\n",
    "passing_reading_percentage = passing_reading_count / total_students_per_school * 100"
   ]
  },
  {
   "cell_type": "code",
   "execution_count": 20,
   "metadata": {},
   "outputs": [
    {
     "name": "stdout",
     "output_type": "stream",
     "text": [
      "                      School Type  Total Students Total School Budget  \\\n",
      "school_name                                                             \n",
      "Bailey High School       District            4976       $3,124,928.00   \n",
      "Cabrera High School       Charter            1858       $1,081,356.00   \n",
      "Figueroa High School     District            2949       $1,884,411.00   \n",
      "Ford High School         District            2739       $1,763,916.00   \n",
      "Griffin High School       Charter            1468         $917,500.00   \n",
      "Hernandez High School    District            4635       $3,022,020.00   \n",
      "Holden High School        Charter             427         $248,087.00   \n",
      "Huang High School        District            2917       $1,910,635.00   \n",
      "Johnson High School      District            4761       $3,094,650.00   \n",
      "Pena High School          Charter             962         $585,858.00   \n",
      "Rodriguez High School    District            3999       $2,547,363.00   \n",
      "Shelton High School       Charter            1761       $1,056,600.00   \n",
      "Thomas High School        Charter            1635       $1,043,130.00   \n",
      "Wilson High School        Charter            2283       $1,319,574.00   \n",
      "Wright High School        Charter            1800       $1,049,400.00   \n",
      "\n",
      "                      Per Student Budget  Average Math Score  \\\n",
      "school_name                                                    \n",
      "Bailey High School               $628.00           77.048432   \n",
      "Cabrera High School              $582.00           83.061895   \n",
      "Figueroa High School             $639.00           76.711767   \n",
      "Ford High School                 $644.00           77.102592   \n",
      "Griffin High School              $625.00           83.351499   \n",
      "Hernandez High School            $652.00           77.289752   \n",
      "Holden High School               $581.00           83.803279   \n",
      "Huang High School                $655.00           76.629414   \n",
      "Johnson High School              $650.00           77.072464   \n",
      "Pena High School                 $609.00           83.839917   \n",
      "Rodriguez High School            $637.00           76.842711   \n",
      "Shelton High School              $600.00           83.359455   \n",
      "Thomas High School               $638.00           83.418349   \n",
      "Wilson High School               $578.00           83.274201   \n",
      "Wright High School               $583.00           83.682222   \n",
      "\n",
      "                       Average Reading Score  %Passing Math  %Passing Reading  \\\n",
      "school_name                                                                     \n",
      "Bailey High School                 81.033963      66.680064         81.933280   \n",
      "Cabrera High School                83.975780      94.133477         97.039828   \n",
      "Figueroa High School               81.158020      65.988471         80.739234   \n",
      "Ford High School                   80.746258      68.309602         79.299014   \n",
      "Griffin High School                83.816757      93.392371         97.138965   \n",
      "Hernandez High School              80.934412      66.752967         80.862999   \n",
      "Holden High School                 83.814988      92.505855         96.252927   \n",
      "Huang High School                  81.182722      65.683922         81.316421   \n",
      "Johnson High School                80.966394      66.057551         81.222432   \n",
      "Pena High School                   84.044699      94.594595         95.945946   \n",
      "Rodriguez High School              80.744686      66.366592         80.220055   \n",
      "Shelton High School                83.725724      93.867121         95.854628   \n",
      "Thomas High School                 83.848930      93.272171         97.308869   \n",
      "Wilson High School                 83.989488      93.867718         96.539641   \n",
      "Wright High School                 83.955000      93.333333         96.611111   \n",
      "\n",
      "                       %Passing Overall  \n",
      "school_name                              \n",
      "Bailey High School            54.642283  \n",
      "Cabrera High School           91.334769  \n",
      "Figueroa High School          53.204476  \n",
      "Ford High School              54.289887  \n",
      "Griffin High School           90.599455  \n",
      "Hernandez High School         53.527508  \n",
      "Holden High School            89.227166  \n",
      "Huang High School             53.513884  \n",
      "Johnson High School           53.539172  \n",
      "Pena High School              90.540541  \n",
      "Rodriguez High School         52.988247  \n",
      "Shelton High School           89.892107  \n",
      "Thomas High School            90.948012  \n",
      "Wilson High School            90.582567  \n",
      "Wright High School            90.333333  \n",
      "                      School Type  Total Students Total School Budget  \\\n",
      "school_name                                                             \n",
      "Bailey High School       District            4976       $3,124,928.00   \n",
      "Cabrera High School       Charter            1858       $1,081,356.00   \n",
      "Figueroa High School     District            2949       $1,884,411.00   \n",
      "Ford High School         District            2739       $1,763,916.00   \n",
      "Griffin High School       Charter            1468         $917,500.00   \n",
      "Hernandez High School    District            4635       $3,022,020.00   \n",
      "Holden High School        Charter             427         $248,087.00   \n",
      "Huang High School        District            2917       $1,910,635.00   \n",
      "Johnson High School      District            4761       $3,094,650.00   \n",
      "Pena High School          Charter             962         $585,858.00   \n",
      "Rodriguez High School    District            3999       $2,547,363.00   \n",
      "Shelton High School       Charter            1761       $1,056,600.00   \n",
      "Thomas High School        Charter            1635       $1,043,130.00   \n",
      "Wilson High School        Charter            2283       $1,319,574.00   \n",
      "Wright High School        Charter            1800       $1,049,400.00   \n",
      "\n",
      "                      Per Student Budget  Average Math Score  \\\n",
      "school_name                                                    \n",
      "Bailey High School               $628.00           77.048432   \n",
      "Cabrera High School              $582.00           83.061895   \n",
      "Figueroa High School             $639.00           76.711767   \n",
      "Ford High School                 $644.00           77.102592   \n",
      "Griffin High School              $625.00           83.351499   \n",
      "Hernandez High School            $652.00           77.289752   \n",
      "Holden High School               $581.00           83.803279   \n",
      "Huang High School                $655.00           76.629414   \n",
      "Johnson High School              $650.00           77.072464   \n",
      "Pena High School                 $609.00           83.839917   \n",
      "Rodriguez High School            $637.00           76.842711   \n",
      "Shelton High School              $600.00           83.359455   \n",
      "Thomas High School               $638.00           83.418349   \n",
      "Wilson High School               $578.00           83.274201   \n",
      "Wright High School               $583.00           83.682222   \n",
      "\n",
      "                       Average Reading Score  %Passing Math  %Passing Reading  \\\n",
      "school_name                                                                     \n",
      "Bailey High School                 81.033963      66.680064         81.933280   \n",
      "Cabrera High School                83.975780      94.133477         97.039828   \n",
      "Figueroa High School               81.158020      65.988471         80.739234   \n",
      "Ford High School                   80.746258      68.309602         79.299014   \n",
      "Griffin High School                83.816757      93.392371         97.138965   \n",
      "Hernandez High School              80.934412      66.752967         80.862999   \n",
      "Holden High School                 83.814988      92.505855         96.252927   \n",
      "Huang High School                  81.182722      65.683922         81.316421   \n",
      "Johnson High School                80.966394      66.057551         81.222432   \n",
      "Pena High School                   84.044699      94.594595         95.945946   \n",
      "Rodriguez High School              80.744686      66.366592         80.220055   \n",
      "Shelton High School                83.725724      93.867121         95.854628   \n",
      "Thomas High School                 83.848930      93.272171         97.308869   \n",
      "Wilson High School                 83.989488      93.867718         96.539641   \n",
      "Wright High School                 83.955000      93.333333         96.611111   \n",
      "\n",
      "                       %Passing Overall  \n",
      "school_name                              \n",
      "Bailey High School            54.642283  \n",
      "Cabrera High School           91.334769  \n",
      "Figueroa High School          53.204476  \n",
      "Ford High School              54.289887  \n",
      "Griffin High School           90.599455  \n",
      "Hernandez High School         53.527508  \n",
      "Holden High School            89.227166  \n",
      "Huang High School             53.513884  \n",
      "Johnson High School           53.539172  \n",
      "Pena High School              90.540541  \n",
      "Rodriguez High School         52.988247  \n",
      "Shelton High School           89.892107  \n",
      "Thomas High School            90.948012  \n",
      "Wilson High School            90.582567  \n",
      "Wright High School            90.333333  \n"
     ]
    }
   ],
   "source": [
    "# Create a DataFrame called `per_school_summary` with columns for the calculations above.\n",
    "per_school_summary = pd.DataFrame ({\n",
    "    \"School Type\": school_types,\n",
    "    \"Total Students\": total_students_per_school,\n",
    "    \"Total School Budget\": per_school_budget,\n",
    "    \"Per Student Budget\": per_school_capita,\n",
    "    \"Average Math Score\": ave_math_scores,\n",
    "    \"Average Reading Score\": ave_reading_scores,\n",
    "    \"%Passing Math\": passing_math_percentage,\n",
    "    \"%Passing Reading\": passing_reading_percentage,\n",
    "    \"%Passing Overall\": overall_passing_rate,\n",
    "})\n",
    "\n",
    "# Formatting\n",
    "per_school_summary[\"Total School Budget\"] = per_school_summary[\"Total School Budget\"].map(\"${:,.2f}\".format)\n",
    "per_school_summary[\"Per Student Budget\"] = per_school_summary[\"Per Student Budget\"].map(\"${:,.2f}\".format)\n",
    "\n",
    "# Set Pandas display options to show all columns and rows\n",
    "pd.set_option('display.max_columns', None)  # Show all columns\n",
    "pd.set_option('display.max_rows', None)     # Show all rows\n",
    "\n",
    "# Print the entire DataFrame\n",
    "print(per_school_summary)\n",
    "# Display the DataFrame\n",
    "#per_school_summary = per_school_summary.groupby('school_name')\n",
    "print(per_school_summary)\n"
   ]
  },
  {
   "cell_type": "code",
   "execution_count": null,
   "metadata": {},
   "outputs": [],
   "source": [
    "# Sort the schools by `% Overall Passing` in descending order and display the top 5 rows.\n",
    "top_schools =\n",
    "top_schools.head(5)\n"
   ]
  },
  {
   "cell_type": "code",
   "execution_count": null,
   "metadata": {},
   "outputs": [],
   "source": [
    "# Sort the schools by `% Overall Passing` in ascending order and display the top 5 rows.\n",
    "bottom_schools =\n",
    "bottom_schools.head(5)"
   ]
  },
  {
   "cell_type": "code",
   "execution_count": null,
   "metadata": {},
   "outputs": [],
   "source": [
    "# Use the code provided to separate the data by grade\n",
    "ninth_graders = school_data_complete[(school_data_complete[\"grade\"] == \"9th\")]\n",
    "tenth_graders = school_data_complete[(school_data_complete[\"grade\"] == \"10th\")]\n",
    "eleventh_graders = school_data_complete[(school_data_complete[\"grade\"] == \"11th\")]\n",
    "twelfth_graders = school_data_complete[(school_data_complete[\"grade\"] == \"12th\")]\n",
    "\n",
    "# Group by `school_name` and take the mean of the `math_score` column for each.\n",
    "ninth_grade_math_scores =\n",
    "tenth_grader_math_scores =\n",
    "eleventh_grader_math_scores =\n",
    "twelfth_grader_math_scores =\n",
    "\n",
    "# Combine each of the scores above into single DataFrame called `math_scores_by_grade`\n",
    "math_scores_by_grade =\n",
    "\n",
    "# Minor data wrangling\n",
    "math_scores_by_grade.index.name = None\n",
    "\n",
    "# Display the DataFrame\n",
    "math_scores_by_grade"
   ]
  },
  {
   "cell_type": "code",
   "execution_count": null,
   "metadata": {},
   "outputs": [],
   "source": [
    "# Use the code provided to separate the data by grade\n",
    "ninth_graders = school_data_complete[(school_data_complete[\"grade\"] == \"9th\")]\n",
    "tenth_graders = school_data_complete[(school_data_complete[\"grade\"] == \"10th\")]\n",
    "eleventh_graders = school_data_complete[(school_data_complete[\"grade\"] == \"11th\")]\n",
    "twelfth_graders = school_data_complete[(school_data_complete[\"grade\"] == \"12th\")]\n",
    "\n",
    "# Group by `school_name` and take the mean of the the `reading_score` column for each.\n",
    "ninth_grade_reading_scores =\n",
    "tenth_grader_reading_scores =\n",
    "eleventh_grader_reading_scores =\n",
    "twelfth_grader_reading_scores =\n",
    "\n",
    "# Combine each of the scores above into single DataFrame called `reading_scores_by_grade`\n",
    "reading_scores_by_grade =\n",
    "\n",
    "# Minor data wrangling\n",
    "reading_scores_by_grade = reading_scores_by_grade[[\"9th\", \"10th\", \"11th\", \"12th\"]]\n",
    "reading_scores_by_grade.index.name = None\n",
    "\n",
    "# Display the DataFrame\n",
    "reading_scores_by_grade"
   ]
  }
 ],
 "metadata": {
  "kernelspec": {
   "display_name": "Python 3",
   "language": "python",
   "name": "python3"
  },
  "language_info": {
   "codemirror_mode": {
    "name": "ipython",
    "version": 3
   },
   "file_extension": ".py",
   "mimetype": "text/x-python",
   "name": "python",
   "nbconvert_exporter": "python",
   "pygments_lexer": "ipython3",
   "version": "3.11.8"
  }
 },
 "nbformat": 4,
 "nbformat_minor": 2
}
